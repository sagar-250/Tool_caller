{
 "cells": [
  {
   "cell_type": "markdown",
   "id": "35f267b0-98db-4a59-8b2c-a23f795576ff",
   "metadata": {},
   "source": [
    "Next, we need to set API keys for OpenAI (the LLM we will use) and Tavily (the search tool we will use)"
   ]
  },
  {
   "cell_type": "code",
   "execution_count": 19,
   "id": "ce438281-08d5-4804-afe7-e4089f7b016b",
   "metadata": {},
   "outputs": [],
   "source": [
    "from langchain_groq import ChatGroq\n",
    "from langchain_core.prompts import ChatPromptTemplate\n",
    "from dotenv import load_dotenv\n",
    "import os\n",
    "load_dotenv()\n",
    "\n",
    "os.getenv(\"GROQ_API_KEY\")\n",
    "os.getenv(\"TAVILY_API_KEY\")\n",
    "\n"
   ]
  },
  {
   "cell_type": "markdown",
   "id": "be2d7981-3737-4134-8bef-d00d18d4e91d",
   "metadata": {},
   "source": [
    "<div class=\"admonition tip\">\n",
    "    <p class=\"admonition-title\">Set up <a href=\"https://smith.langchain.com\">LangSmith</a> for LangGraph development</p>\n",
    "    <p style=\"padding-top: 5px;\">\n",
    "        Sign up for LangSmith to quickly spot issues and improve the performance of your LangGraph projects. LangSmith lets you use trace data to debug, test, and monitor your LLM apps built with LangGraph — read more about how to get started <a href=\"https://docs.smith.langchain.com\">here</a>. \n",
    "    </p>\n",
    "</div>"
   ]
  },
  {
   "cell_type": "markdown",
   "id": "6c5fb09a-0311-44c2-b243-d0e80de78902",
   "metadata": {},
   "source": [
    "## Define Tools\n",
    "\n",
    "We will first define the tools we want to use. For this simple example, we will use a built-in search tool via Tavily. However, it is really easy to create your own tools - see documentation [here](https://python.langchain.com/docs/how_to/custom_tools) on how to do that."
   ]
  },
  {
   "cell_type": "code",
   "execution_count": 7,
   "id": "25b9ec62-0675-4715-811c-9b32c635b22f",
   "metadata": {},
   "outputs": [],
   "source": [
    "from langchain_community.tools.tavily_search import TavilySearchResults\n",
    "\n",
    "tools = [TavilySearchResults(max_results=3)]"
   ]
  },
  {
   "cell_type": "markdown",
   "id": "3dcda478-fa80-4e3e-bb35-0f622fe73a31",
   "metadata": {},
   "source": [
    "## Define our Execution Agent\n",
    "\n",
    "Now we will create the execution agent we want to use to execute tasks. \n",
    "Note that for this example, we will be using the same execution agent for each task, but this doesn't HAVE to be the case."
   ]
  },
  {
   "cell_type": "code",
   "execution_count": 8,
   "id": "72d233ca-1dbf-4b43-b680-b3bf39e3691f",
   "metadata": {},
   "outputs": [
    {
     "name": "stderr",
     "output_type": "stream",
     "text": [
      "c:\\Sagar\\SOFTWARE\\Anaconda\\anaconda3\\envs\\fastapi\\Lib\\site-packages\\langsmith\\client.py:322: LangSmithMissingAPIKeyWarning: API key must be provided when using hosted LangSmith API\n",
      "  \n"
     ]
    },
    {
     "name": "stdout",
     "output_type": "stream",
     "text": [
      "================================\u001b[1m System Message \u001b[0m================================\n",
      "\n",
      "You are a helpful assistant.\n",
      "\n",
      "=============================\u001b[1m Messages Placeholder \u001b[0m=============================\n",
      "\n",
      "\u001b[33;1m\u001b[1;3m{messages}\u001b[0m\n"
     ]
    },
    {
     "name": "stderr",
     "output_type": "stream",
     "text": [
      "c:\\Sagar\\SOFTWARE\\Anaconda\\anaconda3\\envs\\fastapi\\Lib\\site-packages\\langsmith\\client.py:5301: LangChainBetaWarning: The function `loads` is in beta. It is actively being worked on, so the API may change.\n",
      "  \"sort_field\": sort_field,\n"
     ]
    }
   ],
   "source": [
    "from langchain import hub\n",
    "\n",
    "from langgraph.prebuilt import create_react_agent\n",
    "\n",
    "# Get the prompt to use - you can modify this!\n",
    "prompt = hub.pull(\"ih/ih-react-agent-executor\")\n",
    "prompt.pretty_print()\n",
    "\n",
    "# Choose the LLM that will drive the agent\n",
    "\n",
    "agent_executor = create_react_agent(llm, tools, state_modifier=prompt)"
   ]
  },
  {
   "cell_type": "code",
   "execution_count": 9,
   "id": "746e697a-dec4-4342-a814-9b3456828169",
   "metadata": {},
   "outputs": [
    {
     "data": {
      "text/plain": [
       "{'messages': [HumanMessage(content='who is the winnner of the us open', additional_kwargs={}, response_metadata={}, id='4b02af2f-aac1-4acb-918f-4ca696f40c45'),\n",
       "  AIMessage(content=\"The winner of the US Open changes every year, so I need the specific year to provide the correct information. As of my last update, the men's singles winner of the 2021 US Open is Daniil Medvedev and the women's singles winner is Emma Raducanu.\", additional_kwargs={}, response_metadata={'token_usage': {'completion_tokens': 65, 'prompt_tokens': 1226, 'total_tokens': 1291, 'completion_time': 0.103828977, 'prompt_time': 0.0614389, 'queue_time': 0.0008516930000000006, 'total_time': 0.165267877}, 'model_name': 'mixtral-8x7b-32768', 'system_fingerprint': 'fp_c5f20b5bb1', 'finish_reason': 'stop', 'logprobs': None}, id='run-5797b1c0-c56e-45fc-b4cc-74b62bbf9431-0', usage_metadata={'input_tokens': 1226, 'output_tokens': 65, 'total_tokens': 1291})]}"
      ]
     },
     "execution_count": 9,
     "metadata": {},
     "output_type": "execute_result"
    }
   ],
   "source": [
    "agent_executor.invoke({\"messages\": [(\"user\", \"who is the winnner of the us open\")]})"
   ]
  },
  {
   "cell_type": "markdown",
   "id": "5cf66804-44b2-4904-b1a7-17ad70b551f5",
   "metadata": {},
   "source": [
    "## Define the State\n",
    "\n",
    "Let's now start by defining the state the track for this agent.\n",
    "\n",
    "First, we will need to track the current plan. Let's represent that as a list of strings.\n",
    "\n",
    "Next, we should track previously executed steps. Let's represent that as a list of tuples (these tuples will contain the step and then the result)\n",
    "\n",
    "Finally, we need to have some state to represent the final response as well as the original input."
   ]
  },
  {
   "cell_type": "code",
   "execution_count": 9,
   "id": "8eeeaeea-8f10-4fbe-8e24-4e1a2381a009",
   "metadata": {},
   "outputs": [],
   "source": [
    "import operator\n",
    "from typing import Annotated, List, Tuple\n",
    "from typing_extensions import TypedDict\n",
    "\n",
    "\n",
    "class PlanExecute(TypedDict):\n",
    "    input: str\n",
    "    plan: List[str]\n",
    "    past_steps: Annotated[List[Tuple], operator.add]\n",
    "    response: str"
   ]
  },
  {
   "cell_type": "markdown",
   "id": "1dbd770a-9941-40a9-977e-4d55359eee21",
   "metadata": {},
   "source": [
    "## Planning Step\n",
    "\n",
    "Let's now think about creating the planning step. This will use function calling to create a plan."
   ]
  },
  {
   "cell_type": "markdown",
   "id": "e12494fa-c6a2-4cfa-ae58-f72961437843",
   "metadata": {},
   "source": [
    "<div class=\"admonition note\">\n",
    "    <p class=\"admonition-title\">Using Pydantic with LangChain</p>\n",
    "    <p>\n",
    "        This notebook uses Pydantic v2 <code>BaseModel</code>, which requires <code>langchain-core >= 0.3</code>. Using <code>langchain-core < 0.3</code> will result in errors due to mixing of Pydantic v1 and v2 <code>BaseModels</code>.\n",
    "    </p>\n",
    "</div>"
   ]
  },
  {
   "cell_type": "code",
   "execution_count": 10,
   "id": "4a88626d-6dfd-4488-87f0-a9a0dd6da44c",
   "metadata": {},
   "outputs": [],
   "source": [
    "from pydantic import BaseModel, Field\n",
    "\n",
    "\n",
    "class Plan(BaseModel):\n",
    "    \"\"\"Plan to follow in future\"\"\"\n",
    "\n",
    "    steps: List[str] = Field(\n",
    "        description=\"different steps to follow, should be in sorted order\"\n",
    "    )"
   ]
  },
  {
   "cell_type": "code",
   "execution_count": 33,
   "id": "67ce37b7-e089-479b-bcb8-c3f5d9874613",
   "metadata": {},
   "outputs": [
    {
     "data": {
      "text/plain": [
       "Plan(steps=['Find the current Australia Open winner', 'Find the hometown of the current Australia Open winner'])"
      ]
     },
     "execution_count": 33,
     "metadata": {},
     "output_type": "execute_result"
    }
   ],
   "source": []
  },
  {
   "cell_type": "code",
   "execution_count": 3,
   "id": "bc57fb81",
   "metadata": {},
   "outputs": [],
   "source": [
    "tools1=[\n",
    "  {\n",
    "      \"tool_name\": \"who_am_i\",\n",
    "      \"tool_description\": \"Returns the id of the current user\",\n",
    "      \"args\": [],\n",
    "      \"output\": {\n",
    "          \"arg_type\": \"str\",\n",
    "          \"is_array\": False,\n",
    "          \"is_required\": True\n",
    "      }\n",
    "  },\n",
    "  {\n",
    "      \"tool_name\": \"get_sprint_id\",\n",
    "      \"tool_description\": \"Returns the ID\\nof the current\\nsprint\",\n",
    "      \"args\": [],\n",
    "      \"output\": {\n",
    "          \"arg_type\": \"str\",\n",
    "          \"is_array\": False,\n",
    "          \"is_required\": True\n",
    "      }\n",
    "  },\n",
    "  {\n",
    "    \"tool_name\": \"works_list\",\n",
    "    \"tool_description\": \"Returns a list of work items matching the request\",\n",
    "    \"args\": [\n",
    "    {\n",
    "    \"arg_name\": \"applies_to_part\",\n",
    "    \"arg_type\": \"str\",\n",
    "    \"is_array\": True,\n",
    "    \"is_required\": False\n",
    "    },\n",
    "    {\n",
    "    \"arg_name\": \"created_by\",\n",
    "    \"arg_type\": \"str\",\n",
    "    \"is_array\": True,\n",
    "    \"is_required\": False\n",
    "    },\n",
    "    {\n",
    "    \"arg_name\": \"issue_priority\",\n",
    "    \"arg_type\": \"str\",\n",
    "    \"is_array\": True,\n",
    "    \"is_required\": False\n",
    "    },\n",
    "    {\n",
    "    \"arg_name\": \"issue.rev_orgs\",\n",
    "    \"arg_type\": \"str\",\n",
    "    \"is_array\": True,\n",
    "    \"is_required\": False\n",
    "    },\n",
    "    {\n",
    "    \"arg_name\": \"limit\",\n",
    "    \"arg_type\": \"int\",\n",
    "    \"is_array\": False,\n",
    "    \"is_required\": False\n",
    "    },\n",
    "    {\n",
    "    \"arg_name\": \"owned_by\",\n",
    "    \"arg_type\": \"str\",\n",
    "    \"is_array\": True,\n",
    "    \"is_required\": False\n",
    "    },\n",
    "    {\n",
    "    \"arg_name\": \"stage_name\",\n",
    "    \"arg_type\": \"str\",\n",
    "    \"is_array\": True,\n",
    "    \"is_required\": False\n",
    "    },\n",
    "    {\n",
    "    \"arg_name\": \"ticket_need_response\",\n",
    "    \"arg_type\": \"boolean\",\n",
    "    \"is_array\": False,\n",
    "    \"is_required\": False\n",
    "    },\n",
    "    {\n",
    "    \"arg_name\": \"ticket_rev_org\",\n",
    "    \"arg_type\": \"str\",\n",
    "    \"is_array\": True,\n",
    "    \"is_required\": False\n",
    "    },\n",
    "    {\n",
    "    \"arg_name\": \"ticket_severity\",\n",
    "    \"arg_type\": \"str\",\n",
    "    \"is_array\": True,\n",
    "    \"is_required\": False\n",
    "    },\n",
    "    {\n",
    "    \"arg_name\": \"ticket_source_channel\",\n",
    "    \"arg_type\": \"str\",\n",
    "    \"is_array\": True,\n",
    "    \"is_required\": False\n",
    "    },\n",
    "    {\n",
    "    \"arg_name\": \"type\",\n",
    "    \"arg_type\": \"str\",\n",
    "    \"is_array\": True,\n",
    "    \"is_required\": False\n",
    "    }\n",
    "    ],\n",
    "    \"output\": {\n",
    "    \"arg_type\": \"any\",\n",
    "    \"is_array\": False,\n",
    "    \"is_required\": True\n",
    "    }\n",
    "    },\n",
    "    {\n",
    "    \"tool_name\": \"summarize_objects\",\n",
    "    \"tool_description\": \"Summarizes a list of objects. The logic of how to summarize a particular object type is an internal implementation detail.\",\n",
    "    \"args\": [\n",
    "    {\n",
    "    \"arg_name\": \"objects\",\n",
    "    \"arg_type\": \"any\",\n",
    "    \"is_array\": True,\n",
    "    \"is_required\": True\n",
    "    }\n",
    "    ],\n",
    "    \"output\": {\n",
    "    \"arg_type\": \"any\",\n",
    "    \"is_array\": False,\n",
    "    \"is_required\": True\n",
    "    }\n",
    "    },\n",
    "    {\n",
    "    \"tool_name\": \"prioritize_objects\",\n",
    "    \"tool_description\": \"Returns a list of objects sorted by priority. The logic of what constitutes priority for a given object is an internal implementation detail\",\n",
    "    \"args\": [\n",
    "    {\n",
    "    \"arg_name\": \"objects\",\n",
    "    \"arg_type\": \"any\",\n",
    "    \"is_array\": False,\n",
    "    \"is_required\": False\n",
    "    }\n",
    "    ],\n",
    "    \"output\": {\n",
    "    \"arg_type\": \"any\",\n",
    "    \"is_array\": True,\n",
    "    \"is_required\": True\n",
    "    }\n",
    "}]\n"
   ]
  },
  {
   "cell_type": "code",
   "execution_count": 23,
   "id": "62f750e8",
   "metadata": {},
   "outputs": [],
   "source": [
    "llm = ChatGroq(\n",
    "    model=\"llama3-groq-8b-8192-tool-use-preview\",\n",
    "    temperature=0,\n",
    "    max_tokens=None,\n",
    "    timeout=None,\n",
    "    max_retries=2,\n",
    ")"
   ]
  },
  {
   "cell_type": "code",
   "execution_count": 24,
   "id": "ec7b1867-1ea3-4df3-9a98-992a1c32ec49",
   "metadata": {},
   "outputs": [],
   "source": [
    "from langchain_core.prompts import ChatPromptTemplate,SystemMessagePromptTemplate,HumanMessagePromptTemplate\n",
    "\n",
    "\n",
    "system_prompt=\"\"\"For the given objective, come up with a simple step by step plan according the following tools provided \n",
    "{tools} \"\"\"\n",
    "system_message_template = SystemMessagePromptTemplate.from_template(system_prompt)\n",
    "user_message_template = HumanMessagePromptTemplate.from_template(\"{user_query}\")\n",
    "planner_prompt = ChatPromptTemplate.from_messages([system_message_template, user_message_template])\n",
    "\n",
    "planner = planner_prompt | llm.with_structured_output(Plan)"
   ]
  },
  {
   "cell_type": "markdown",
   "id": "6e09ad9d-6f90-4bdc-bb43-b1ce94517c29",
   "metadata": {},
   "source": [
    "## calling tools according to plan\n",
    "\n"
   ]
  },
  {
   "cell_type": "code",
   "execution_count": 28,
   "id": "ec2d12cc-016a-44d1-aa08-4c5ce1e8fe2a",
   "metadata": {},
   "outputs": [
    {
     "name": "stdout",
     "output_type": "stream",
     "text": [
      "steps=['Get user ID for Globex', 'Get current sprint ID', 'Fetch high-severity tickets for Globex in current sprint']\n"
     ]
    },
    {
     "ename": "ValidationError",
     "evalue": "8 validation errors for ResponseModel\ntool_calls.2.arguments.0.argument_name\n  Field required [type=missing, input_value={'applies_to_part': ['Glo...sue_priority': ['high']}, input_type=dict]\n    For further information visit https://errors.pydantic.dev/2.8/v/missing\ntool_calls.2.arguments.0.argument_value\n  Field required [type=missing, input_value={'applies_to_part': ['Glo...sue_priority': ['high']}, input_type=dict]\n    For further information visit https://errors.pydantic.dev/2.8/v/missing\ntool_calls.2.arguments.1.argument_name\n  Field required [type=missing, input_value={'created_by': ['$$PREV[0...ket_severity': ['high']}, input_type=dict]\n    For further information visit https://errors.pydantic.dev/2.8/v/missing\ntool_calls.2.arguments.1.argument_value\n  Field required [type=missing, input_value={'created_by': ['$$PREV[0...ket_severity': ['high']}, input_type=dict]\n    For further information visit https://errors.pydantic.dev/2.8/v/missing\ntool_calls.2.arguments.2.argument_name\n  Field required [type=missing, input_value={'stage_name': ['current'...channel': ['$$PREV[1]']}, input_type=dict]\n    For further information visit https://errors.pydantic.dev/2.8/v/missing\ntool_calls.2.arguments.2.argument_value\n  Field required [type=missing, input_value={'stage_name': ['current'...channel': ['$$PREV[1]']}, input_type=dict]\n    For further information visit https://errors.pydantic.dev/2.8/v/missing\ntool_calls.3.arguments\n  Input should be a valid list [type=list_type, input_value={'objects': ['$$PREV[2]']}, input_type=dict]\n    For further information visit https://errors.pydantic.dev/2.8/v/list_type\ntool_calls.4.arguments\n  Input should be a valid list [type=list_type, input_value={'objects': ['$$PREV[3]']}, input_type=dict]\n    For further information visit https://errors.pydantic.dev/2.8/v/list_type",
     "output_type": "error",
     "traceback": [
      "\u001b[1;31m---------------------------------------------------------------------------\u001b[0m",
      "\u001b[1;31mValidationError\u001b[0m                           Traceback (most recent call last)",
      "Cell \u001b[1;32mIn[28], line 29\u001b[0m\n\u001b[0;32m     24\u001b[0m     \u001b[38;5;28mprint\u001b[39m(tool_caller\u001b[38;5;241m.\u001b[39minvoke({\u001b[38;5;124m\"\u001b[39m\u001b[38;5;124mplan\u001b[39m\u001b[38;5;124m\"\u001b[39m:plan,\u001b[38;5;124m\"\u001b[39m\u001b[38;5;124mtools\u001b[39m\u001b[38;5;124m\"\u001b[39m:tools})) \n\u001b[0;32m     26\u001b[0m query\u001b[38;5;241m=\u001b[39m\u001b[38;5;124m\"\u001b[39m\u001b[38;5;124mlist their high-severity tickets for ’Globex’ user\u001b[39m\u001b[38;5;124m\"\u001b[39m\n\u001b[1;32m---> 29\u001b[0m \u001b[43mtool_calling\u001b[49m\u001b[43m(\u001b[49m\u001b[43mquery\u001b[49m\u001b[43m,\u001b[49m\u001b[43mtools1\u001b[49m\u001b[43m)\u001b[49m\n",
      "Cell \u001b[1;32mIn[28], line 24\u001b[0m, in \u001b[0;36mtool_calling\u001b[1;34m(query, tools)\u001b[0m\n\u001b[0;32m     18\u001b[0m tool_prompt \u001b[38;5;241m=\u001b[39m ChatPromptTemplate\u001b[38;5;241m.\u001b[39mfrom_template(\n\u001b[0;32m     19\u001b[0m \u001b[38;5;250m\u001b[39m\u001b[38;5;124;03m\"\"\"For the given Query:{plan}, come up with  tool calling josn ITS NOT NECESAARY TO CALL TOOLS FOR EVERY STEPS. SOME TOOL MIGHT ACCOMPLISH MULTIPE STEOS TOGEATHER.understand the essence of te plan \\\u001b[39;00m\n\u001b[0;32m     20\u001b[0m \u001b[38;5;124;03m    You have access to the following tool: {tools}.go through each argument provided properly and ive every needed arg and select the relavent tools\u001b[39;00m\n\u001b[0;32m     21\u001b[0m \u001b[38;5;124;03m    when you need output from of i th previous tool for argument write \"$$PREV[i]\" in the argument .order the function calling properly for the task .DONT CALL FUNCTION UNECESARRLY unless properly specified for\"\"\"\u001b[39;00m)\n\u001b[0;32m     23\u001b[0m tool_caller \u001b[38;5;241m=\u001b[39m tool_prompt \u001b[38;5;241m|\u001b[39m llm\u001b[38;5;241m.\u001b[39mwith_structured_output(ResponseModel)\n\u001b[1;32m---> 24\u001b[0m \u001b[38;5;28mprint\u001b[39m(\u001b[43mtool_caller\u001b[49m\u001b[38;5;241;43m.\u001b[39;49m\u001b[43minvoke\u001b[49m\u001b[43m(\u001b[49m\u001b[43m{\u001b[49m\u001b[38;5;124;43m\"\u001b[39;49m\u001b[38;5;124;43mplan\u001b[39;49m\u001b[38;5;124;43m\"\u001b[39;49m\u001b[43m:\u001b[49m\u001b[43mplan\u001b[49m\u001b[43m,\u001b[49m\u001b[38;5;124;43m\"\u001b[39;49m\u001b[38;5;124;43mtools\u001b[39;49m\u001b[38;5;124;43m\"\u001b[39;49m\u001b[43m:\u001b[49m\u001b[43mtools\u001b[49m\u001b[43m}\u001b[49m\u001b[43m)\u001b[49m)\n",
      "File \u001b[1;32mc:\\Sagar\\SOFTWARE\\Anaconda\\anaconda3\\envs\\fastapi\\Lib\\site-packages\\langchain_core\\runnables\\base.py:3024\u001b[0m, in \u001b[0;36mRunnableSequence.invoke\u001b[1;34m(self, input, config, **kwargs)\u001b[0m\n\u001b[0;32m   3022\u001b[0m             \u001b[38;5;28minput\u001b[39m \u001b[38;5;241m=\u001b[39m context\u001b[38;5;241m.\u001b[39mrun(step\u001b[38;5;241m.\u001b[39minvoke, \u001b[38;5;28minput\u001b[39m, config, \u001b[38;5;241m*\u001b[39m\u001b[38;5;241m*\u001b[39mkwargs)\n\u001b[0;32m   3023\u001b[0m         \u001b[38;5;28;01melse\u001b[39;00m:\n\u001b[1;32m-> 3024\u001b[0m             \u001b[38;5;28minput\u001b[39m \u001b[38;5;241m=\u001b[39m \u001b[43mcontext\u001b[49m\u001b[38;5;241;43m.\u001b[39;49m\u001b[43mrun\u001b[49m\u001b[43m(\u001b[49m\u001b[43mstep\u001b[49m\u001b[38;5;241;43m.\u001b[39;49m\u001b[43minvoke\u001b[49m\u001b[43m,\u001b[49m\u001b[43m \u001b[49m\u001b[38;5;28;43minput\u001b[39;49m\u001b[43m,\u001b[49m\u001b[43m \u001b[49m\u001b[43mconfig\u001b[49m\u001b[43m)\u001b[49m\n\u001b[0;32m   3025\u001b[0m \u001b[38;5;66;03m# finish the root run\u001b[39;00m\n\u001b[0;32m   3026\u001b[0m \u001b[38;5;28;01mexcept\u001b[39;00m \u001b[38;5;167;01mBaseException\u001b[39;00m \u001b[38;5;28;01mas\u001b[39;00m e:\n",
      "File \u001b[1;32mc:\\Sagar\\SOFTWARE\\Anaconda\\anaconda3\\envs\\fastapi\\Lib\\site-packages\\langchain_core\\output_parsers\\base.py:193\u001b[0m, in \u001b[0;36mBaseOutputParser.invoke\u001b[1;34m(self, input, config, **kwargs)\u001b[0m\n\u001b[0;32m    186\u001b[0m \u001b[38;5;28;01mdef\u001b[39;00m \u001b[38;5;21minvoke\u001b[39m(\n\u001b[0;32m    187\u001b[0m     \u001b[38;5;28mself\u001b[39m,\n\u001b[0;32m    188\u001b[0m     \u001b[38;5;28minput\u001b[39m: Union[\u001b[38;5;28mstr\u001b[39m, BaseMessage],\n\u001b[0;32m    189\u001b[0m     config: Optional[RunnableConfig] \u001b[38;5;241m=\u001b[39m \u001b[38;5;28;01mNone\u001b[39;00m,\n\u001b[0;32m    190\u001b[0m     \u001b[38;5;241m*\u001b[39m\u001b[38;5;241m*\u001b[39mkwargs: Any,\n\u001b[0;32m    191\u001b[0m ) \u001b[38;5;241m-\u001b[39m\u001b[38;5;241m>\u001b[39m T:\n\u001b[0;32m    192\u001b[0m     \u001b[38;5;28;01mif\u001b[39;00m \u001b[38;5;28misinstance\u001b[39m(\u001b[38;5;28minput\u001b[39m, BaseMessage):\n\u001b[1;32m--> 193\u001b[0m         \u001b[38;5;28;01mreturn\u001b[39;00m \u001b[38;5;28;43mself\u001b[39;49m\u001b[38;5;241;43m.\u001b[39;49m\u001b[43m_call_with_config\u001b[49m\u001b[43m(\u001b[49m\n\u001b[0;32m    194\u001b[0m \u001b[43m            \u001b[49m\u001b[38;5;28;43;01mlambda\u001b[39;49;00m\u001b[43m \u001b[49m\u001b[43minner_input\u001b[49m\u001b[43m:\u001b[49m\u001b[43m \u001b[49m\u001b[38;5;28;43mself\u001b[39;49m\u001b[38;5;241;43m.\u001b[39;49m\u001b[43mparse_result\u001b[49m\u001b[43m(\u001b[49m\n\u001b[0;32m    195\u001b[0m \u001b[43m                \u001b[49m\u001b[43m[\u001b[49m\u001b[43mChatGeneration\u001b[49m\u001b[43m(\u001b[49m\u001b[43mmessage\u001b[49m\u001b[38;5;241;43m=\u001b[39;49m\u001b[43minner_input\u001b[49m\u001b[43m)\u001b[49m\u001b[43m]\u001b[49m\n\u001b[0;32m    196\u001b[0m \u001b[43m            \u001b[49m\u001b[43m)\u001b[49m\u001b[43m,\u001b[49m\n\u001b[0;32m    197\u001b[0m \u001b[43m            \u001b[49m\u001b[38;5;28;43minput\u001b[39;49m\u001b[43m,\u001b[49m\n\u001b[0;32m    198\u001b[0m \u001b[43m            \u001b[49m\u001b[43mconfig\u001b[49m\u001b[43m,\u001b[49m\n\u001b[0;32m    199\u001b[0m \u001b[43m            \u001b[49m\u001b[43mrun_type\u001b[49m\u001b[38;5;241;43m=\u001b[39;49m\u001b[38;5;124;43m\"\u001b[39;49m\u001b[38;5;124;43mparser\u001b[39;49m\u001b[38;5;124;43m\"\u001b[39;49m\u001b[43m,\u001b[49m\n\u001b[0;32m    200\u001b[0m \u001b[43m        \u001b[49m\u001b[43m)\u001b[49m\n\u001b[0;32m    201\u001b[0m     \u001b[38;5;28;01melse\u001b[39;00m:\n\u001b[0;32m    202\u001b[0m         \u001b[38;5;28;01mreturn\u001b[39;00m \u001b[38;5;28mself\u001b[39m\u001b[38;5;241m.\u001b[39m_call_with_config(\n\u001b[0;32m    203\u001b[0m             \u001b[38;5;28;01mlambda\u001b[39;00m inner_input: \u001b[38;5;28mself\u001b[39m\u001b[38;5;241m.\u001b[39mparse_result([Generation(text\u001b[38;5;241m=\u001b[39minner_input)]),\n\u001b[0;32m    204\u001b[0m             \u001b[38;5;28minput\u001b[39m,\n\u001b[0;32m    205\u001b[0m             config,\n\u001b[0;32m    206\u001b[0m             run_type\u001b[38;5;241m=\u001b[39m\u001b[38;5;124m\"\u001b[39m\u001b[38;5;124mparser\u001b[39m\u001b[38;5;124m\"\u001b[39m,\n\u001b[0;32m    207\u001b[0m         )\n",
      "File \u001b[1;32mc:\\Sagar\\SOFTWARE\\Anaconda\\anaconda3\\envs\\fastapi\\Lib\\site-packages\\langchain_core\\runnables\\base.py:1927\u001b[0m, in \u001b[0;36mRunnable._call_with_config\u001b[1;34m(self, func, input, config, run_type, serialized, **kwargs)\u001b[0m\n\u001b[0;32m   1923\u001b[0m     context \u001b[38;5;241m=\u001b[39m copy_context()\n\u001b[0;32m   1924\u001b[0m     context\u001b[38;5;241m.\u001b[39mrun(_set_config_context, child_config)\n\u001b[0;32m   1925\u001b[0m     output \u001b[38;5;241m=\u001b[39m cast(\n\u001b[0;32m   1926\u001b[0m         Output,\n\u001b[1;32m-> 1927\u001b[0m         \u001b[43mcontext\u001b[49m\u001b[38;5;241;43m.\u001b[39;49m\u001b[43mrun\u001b[49m\u001b[43m(\u001b[49m\n\u001b[0;32m   1928\u001b[0m \u001b[43m            \u001b[49m\u001b[43mcall_func_with_variable_args\u001b[49m\u001b[43m,\u001b[49m\u001b[43m  \u001b[49m\u001b[38;5;66;43;03m# type: ignore[arg-type]\u001b[39;49;00m\n\u001b[0;32m   1929\u001b[0m \u001b[43m            \u001b[49m\u001b[43mfunc\u001b[49m\u001b[43m,\u001b[49m\u001b[43m  \u001b[49m\u001b[38;5;66;43;03m# type: ignore[arg-type]\u001b[39;49;00m\n\u001b[0;32m   1930\u001b[0m \u001b[43m            \u001b[49m\u001b[38;5;28;43minput\u001b[39;49m\u001b[43m,\u001b[49m\u001b[43m  \u001b[49m\u001b[38;5;66;43;03m# type: ignore[arg-type]\u001b[39;49;00m\n\u001b[0;32m   1931\u001b[0m \u001b[43m            \u001b[49m\u001b[43mconfig\u001b[49m\u001b[43m,\u001b[49m\n\u001b[0;32m   1932\u001b[0m \u001b[43m            \u001b[49m\u001b[43mrun_manager\u001b[49m\u001b[43m,\u001b[49m\n\u001b[0;32m   1933\u001b[0m \u001b[43m            \u001b[49m\u001b[38;5;241;43m*\u001b[39;49m\u001b[38;5;241;43m*\u001b[39;49m\u001b[43mkwargs\u001b[49m\u001b[43m,\u001b[49m\n\u001b[0;32m   1934\u001b[0m \u001b[43m        \u001b[49m\u001b[43m)\u001b[49m,\n\u001b[0;32m   1935\u001b[0m     )\n\u001b[0;32m   1936\u001b[0m \u001b[38;5;28;01mexcept\u001b[39;00m \u001b[38;5;167;01mBaseException\u001b[39;00m \u001b[38;5;28;01mas\u001b[39;00m e:\n\u001b[0;32m   1937\u001b[0m     run_manager\u001b[38;5;241m.\u001b[39mon_chain_error(e)\n",
      "File \u001b[1;32mc:\\Sagar\\SOFTWARE\\Anaconda\\anaconda3\\envs\\fastapi\\Lib\\site-packages\\langchain_core\\runnables\\config.py:396\u001b[0m, in \u001b[0;36mcall_func_with_variable_args\u001b[1;34m(func, input, config, run_manager, **kwargs)\u001b[0m\n\u001b[0;32m    394\u001b[0m \u001b[38;5;28;01mif\u001b[39;00m run_manager \u001b[38;5;129;01mis\u001b[39;00m \u001b[38;5;129;01mnot\u001b[39;00m \u001b[38;5;28;01mNone\u001b[39;00m \u001b[38;5;129;01mand\u001b[39;00m accepts_run_manager(func):\n\u001b[0;32m    395\u001b[0m     kwargs[\u001b[38;5;124m\"\u001b[39m\u001b[38;5;124mrun_manager\u001b[39m\u001b[38;5;124m\"\u001b[39m] \u001b[38;5;241m=\u001b[39m run_manager\n\u001b[1;32m--> 396\u001b[0m \u001b[38;5;28;01mreturn\u001b[39;00m \u001b[43mfunc\u001b[49m\u001b[43m(\u001b[49m\u001b[38;5;28;43minput\u001b[39;49m\u001b[43m,\u001b[49m\u001b[43m \u001b[49m\u001b[38;5;241;43m*\u001b[39;49m\u001b[38;5;241;43m*\u001b[39;49m\u001b[43mkwargs\u001b[49m\u001b[43m)\u001b[49m\n",
      "File \u001b[1;32mc:\\Sagar\\SOFTWARE\\Anaconda\\anaconda3\\envs\\fastapi\\Lib\\site-packages\\langchain_core\\output_parsers\\base.py:194\u001b[0m, in \u001b[0;36mBaseOutputParser.invoke.<locals>.<lambda>\u001b[1;34m(inner_input)\u001b[0m\n\u001b[0;32m    186\u001b[0m \u001b[38;5;28;01mdef\u001b[39;00m \u001b[38;5;21minvoke\u001b[39m(\n\u001b[0;32m    187\u001b[0m     \u001b[38;5;28mself\u001b[39m,\n\u001b[0;32m    188\u001b[0m     \u001b[38;5;28minput\u001b[39m: Union[\u001b[38;5;28mstr\u001b[39m, BaseMessage],\n\u001b[0;32m    189\u001b[0m     config: Optional[RunnableConfig] \u001b[38;5;241m=\u001b[39m \u001b[38;5;28;01mNone\u001b[39;00m,\n\u001b[0;32m    190\u001b[0m     \u001b[38;5;241m*\u001b[39m\u001b[38;5;241m*\u001b[39mkwargs: Any,\n\u001b[0;32m    191\u001b[0m ) \u001b[38;5;241m-\u001b[39m\u001b[38;5;241m>\u001b[39m T:\n\u001b[0;32m    192\u001b[0m     \u001b[38;5;28;01mif\u001b[39;00m \u001b[38;5;28misinstance\u001b[39m(\u001b[38;5;28minput\u001b[39m, BaseMessage):\n\u001b[0;32m    193\u001b[0m         \u001b[38;5;28;01mreturn\u001b[39;00m \u001b[38;5;28mself\u001b[39m\u001b[38;5;241m.\u001b[39m_call_with_config(\n\u001b[1;32m--> 194\u001b[0m             \u001b[38;5;28;01mlambda\u001b[39;00m inner_input: \u001b[38;5;28;43mself\u001b[39;49m\u001b[38;5;241;43m.\u001b[39;49m\u001b[43mparse_result\u001b[49m\u001b[43m(\u001b[49m\n\u001b[0;32m    195\u001b[0m \u001b[43m                \u001b[49m\u001b[43m[\u001b[49m\u001b[43mChatGeneration\u001b[49m\u001b[43m(\u001b[49m\u001b[43mmessage\u001b[49m\u001b[38;5;241;43m=\u001b[39;49m\u001b[43minner_input\u001b[49m\u001b[43m)\u001b[49m\u001b[43m]\u001b[49m\n\u001b[0;32m    196\u001b[0m \u001b[43m            \u001b[49m\u001b[43m)\u001b[49m,\n\u001b[0;32m    197\u001b[0m             \u001b[38;5;28minput\u001b[39m,\n\u001b[0;32m    198\u001b[0m             config,\n\u001b[0;32m    199\u001b[0m             run_type\u001b[38;5;241m=\u001b[39m\u001b[38;5;124m\"\u001b[39m\u001b[38;5;124mparser\u001b[39m\u001b[38;5;124m\"\u001b[39m,\n\u001b[0;32m    200\u001b[0m         )\n\u001b[0;32m    201\u001b[0m     \u001b[38;5;28;01melse\u001b[39;00m:\n\u001b[0;32m    202\u001b[0m         \u001b[38;5;28;01mreturn\u001b[39;00m \u001b[38;5;28mself\u001b[39m\u001b[38;5;241m.\u001b[39m_call_with_config(\n\u001b[0;32m    203\u001b[0m             \u001b[38;5;28;01mlambda\u001b[39;00m inner_input: \u001b[38;5;28mself\u001b[39m\u001b[38;5;241m.\u001b[39mparse_result([Generation(text\u001b[38;5;241m=\u001b[39minner_input)]),\n\u001b[0;32m    204\u001b[0m             \u001b[38;5;28minput\u001b[39m,\n\u001b[0;32m    205\u001b[0m             config,\n\u001b[0;32m    206\u001b[0m             run_type\u001b[38;5;241m=\u001b[39m\u001b[38;5;124m\"\u001b[39m\u001b[38;5;124mparser\u001b[39m\u001b[38;5;124m\"\u001b[39m,\n\u001b[0;32m    207\u001b[0m         )\n",
      "File \u001b[1;32mc:\\Sagar\\SOFTWARE\\Anaconda\\anaconda3\\envs\\fastapi\\Lib\\site-packages\\langchain_core\\output_parsers\\openai_tools.py:298\u001b[0m, in \u001b[0;36mPydanticToolsParser.parse_result\u001b[1;34m(self, result, partial)\u001b[0m\n\u001b[0;32m    296\u001b[0m             \u001b[38;5;28;01mcontinue\u001b[39;00m\n\u001b[0;32m    297\u001b[0m         \u001b[38;5;28;01melse\u001b[39;00m:\n\u001b[1;32m--> 298\u001b[0m             \u001b[38;5;28;01mraise\u001b[39;00m e\n\u001b[0;32m    299\u001b[0m \u001b[38;5;28;01mif\u001b[39;00m \u001b[38;5;28mself\u001b[39m\u001b[38;5;241m.\u001b[39mfirst_tool_only:\n\u001b[0;32m    300\u001b[0m     \u001b[38;5;28;01mreturn\u001b[39;00m pydantic_objects[\u001b[38;5;241m0\u001b[39m] \u001b[38;5;28;01mif\u001b[39;00m pydantic_objects \u001b[38;5;28;01melse\u001b[39;00m \u001b[38;5;28;01mNone\u001b[39;00m\n",
      "File \u001b[1;32mc:\\Sagar\\SOFTWARE\\Anaconda\\anaconda3\\envs\\fastapi\\Lib\\site-packages\\langchain_core\\output_parsers\\openai_tools.py:293\u001b[0m, in \u001b[0;36mPydanticToolsParser.parse_result\u001b[1;34m(self, result, partial)\u001b[0m\n\u001b[0;32m    288\u001b[0m         msg \u001b[38;5;241m=\u001b[39m (\n\u001b[0;32m    289\u001b[0m             \u001b[38;5;124mf\u001b[39m\u001b[38;5;124m\"\u001b[39m\u001b[38;5;124mTool arguments must be specified as a dict, received: \u001b[39m\u001b[38;5;124m\"\u001b[39m\n\u001b[0;32m    290\u001b[0m             \u001b[38;5;124mf\u001b[39m\u001b[38;5;124m\"\u001b[39m\u001b[38;5;132;01m{\u001b[39;00mres[\u001b[38;5;124m'\u001b[39m\u001b[38;5;124margs\u001b[39m\u001b[38;5;124m'\u001b[39m]\u001b[38;5;132;01m}\u001b[39;00m\u001b[38;5;124m\"\u001b[39m\n\u001b[0;32m    291\u001b[0m         )\n\u001b[0;32m    292\u001b[0m         \u001b[38;5;28;01mraise\u001b[39;00m \u001b[38;5;167;01mValueError\u001b[39;00m(msg)\n\u001b[1;32m--> 293\u001b[0m     pydantic_objects\u001b[38;5;241m.\u001b[39mappend(\u001b[43mname_dict\u001b[49m\u001b[43m[\u001b[49m\u001b[43mres\u001b[49m\u001b[43m[\u001b[49m\u001b[38;5;124;43m\"\u001b[39;49m\u001b[38;5;124;43mtype\u001b[39;49m\u001b[38;5;124;43m\"\u001b[39;49m\u001b[43m]\u001b[49m\u001b[43m]\u001b[49m\u001b[43m(\u001b[49m\u001b[38;5;241;43m*\u001b[39;49m\u001b[38;5;241;43m*\u001b[39;49m\u001b[43mres\u001b[49m\u001b[43m[\u001b[49m\u001b[38;5;124;43m\"\u001b[39;49m\u001b[38;5;124;43margs\u001b[39;49m\u001b[38;5;124;43m\"\u001b[39;49m\u001b[43m]\u001b[49m\u001b[43m)\u001b[49m)\n\u001b[0;32m    294\u001b[0m \u001b[38;5;28;01mexcept\u001b[39;00m (ValidationError, \u001b[38;5;167;01mValueError\u001b[39;00m) \u001b[38;5;28;01mas\u001b[39;00m e:\n\u001b[0;32m    295\u001b[0m     \u001b[38;5;28;01mif\u001b[39;00m partial:\n",
      "File \u001b[1;32m~\\AppData\\Roaming\\Python\\Python312\\site-packages\\pydantic\\main.py:193\u001b[0m, in \u001b[0;36mBaseModel.__init__\u001b[1;34m(self, **data)\u001b[0m\n\u001b[0;32m    191\u001b[0m \u001b[38;5;66;03m# `__tracebackhide__` tells pytest and some other tools to omit this function from tracebacks\u001b[39;00m\n\u001b[0;32m    192\u001b[0m __tracebackhide__ \u001b[38;5;241m=\u001b[39m \u001b[38;5;28;01mTrue\u001b[39;00m\n\u001b[1;32m--> 193\u001b[0m \u001b[38;5;28;43mself\u001b[39;49m\u001b[38;5;241;43m.\u001b[39;49m\u001b[43m__pydantic_validator__\u001b[49m\u001b[38;5;241;43m.\u001b[39;49m\u001b[43mvalidate_python\u001b[49m\u001b[43m(\u001b[49m\u001b[43mdata\u001b[49m\u001b[43m,\u001b[49m\u001b[43m \u001b[49m\u001b[43mself_instance\u001b[49m\u001b[38;5;241;43m=\u001b[39;49m\u001b[38;5;28;43mself\u001b[39;49m\u001b[43m)\u001b[49m\n",
      "\u001b[1;31mValidationError\u001b[0m: 8 validation errors for ResponseModel\ntool_calls.2.arguments.0.argument_name\n  Field required [type=missing, input_value={'applies_to_part': ['Glo...sue_priority': ['high']}, input_type=dict]\n    For further information visit https://errors.pydantic.dev/2.8/v/missing\ntool_calls.2.arguments.0.argument_value\n  Field required [type=missing, input_value={'applies_to_part': ['Glo...sue_priority': ['high']}, input_type=dict]\n    For further information visit https://errors.pydantic.dev/2.8/v/missing\ntool_calls.2.arguments.1.argument_name\n  Field required [type=missing, input_value={'created_by': ['$$PREV[0...ket_severity': ['high']}, input_type=dict]\n    For further information visit https://errors.pydantic.dev/2.8/v/missing\ntool_calls.2.arguments.1.argument_value\n  Field required [type=missing, input_value={'created_by': ['$$PREV[0...ket_severity': ['high']}, input_type=dict]\n    For further information visit https://errors.pydantic.dev/2.8/v/missing\ntool_calls.2.arguments.2.argument_name\n  Field required [type=missing, input_value={'stage_name': ['current'...channel': ['$$PREV[1]']}, input_type=dict]\n    For further information visit https://errors.pydantic.dev/2.8/v/missing\ntool_calls.2.arguments.2.argument_value\n  Field required [type=missing, input_value={'stage_name': ['current'...channel': ['$$PREV[1]']}, input_type=dict]\n    For further information visit https://errors.pydantic.dev/2.8/v/missing\ntool_calls.3.arguments\n  Input should be a valid list [type=list_type, input_value={'objects': ['$$PREV[2]']}, input_type=dict]\n    For further information visit https://errors.pydantic.dev/2.8/v/list_type\ntool_calls.4.arguments\n  Input should be a valid list [type=list_type, input_value={'objects': ['$$PREV[3]']}, input_type=dict]\n    For further information visit https://errors.pydantic.dev/2.8/v/list_type"
     ]
    }
   ],
   "source": [
    "from typing import Union\n",
    "\n",
    "\n",
    "class Argument(BaseModel):\n",
    "    argument_name: str\n",
    "    argument_value: List[str]\n",
    "\n",
    "class Tool(BaseModel):\n",
    "    tool_name: str\n",
    "    arguments: List[Argument]\n",
    "    \n",
    "class ResponseModel(BaseModel):\n",
    "    tool_calls: list[Tool]\n",
    "\n",
    "def tool_calling(query,tools):\n",
    "    plan=planner.invoke({\"user_query\":query,\"tools\":tools})\n",
    "    print(plan)\n",
    "    tool_prompt = ChatPromptTemplate.from_template(\n",
    "    \"\"\"For the given Query:{plan}, come up with  tool calling josn ITS NOT NECESAARY TO CALL TOOLS FOR EVERY STEPS. SOME TOOL MIGHT ACCOMPLISH MULTIPE STEOS TOGEATHER.understand the essence of te plan \\\n",
    "        You have access to the following tool: {tools}.go through each argument provided properly and ive every needed arg and select the relavent tools\n",
    "        when you need output from of i th previous tool for argument write \"$$PREV[i]\" in the argument .order the function calling properly for the task .DONT CALL FUNCTION UNECESARRLY unless properly specified for\"\"\")\n",
    "    \n",
    "    tool_caller = tool_prompt | llm.with_structured_output(ResponseModel)\n",
    "    print(tool_caller.invoke({\"plan\":plan,\"tools\":tools})) \n",
    "\n",
    "query=\"list their high-severity tickets for ’Globex’ user\"\n",
    "\n",
    "\n",
    "tool_calling(query,tools1)\n"
   ]
  }
 ],
 "metadata": {
  "kernelspec": {
   "display_name": "fastapi",
   "language": "python",
   "name": "python3"
  },
  "language_info": {
   "codemirror_mode": {
    "name": "ipython",
    "version": 3
   },
   "file_extension": ".py",
   "mimetype": "text/x-python",
   "name": "python",
   "nbconvert_exporter": "python",
   "pygments_lexer": "ipython3",
   "version": "3.12.5"
  }
 },
 "nbformat": 4,
 "nbformat_minor": 5
}
